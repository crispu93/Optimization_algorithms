{
 "cells": [
  {
   "cell_type": "markdown",
   "metadata": {},
   "source": [
    "# Implementación de algoritmos de Optmización: algoritmos gradiente descendiente y de Newton\n",
    "### José Crispín Alvarado Calderón"
   ]
  },
  {
   "cell_type": "code",
   "execution_count": 1,
   "metadata": {},
   "outputs": [],
   "source": [
    "import autograd.numpy as np\n",
    "import matplotlib.pyplot as plt\n",
    "from autograd import grad, hessian"
   ]
  },
  {
   "cell_type": "code",
   "execution_count": 2,
   "metadata": {},
   "outputs": [],
   "source": [
    "# The Rosenbrock function with global minimum at (1,1)\n",
    "def f(x, y):\n",
    "    return 100*(y - x**2)**2 + (1-x)**2\n",
    "#def f(x, y):\n",
    "#    return 5*np.cos(x-2)-5*np.sin(x-2*y)\n",
    "\n",
    "def g(x_1, x_2):\n",
    "    y = x_1**2 + x_2**2\n",
    "    return y\n",
    "\n",
    "def h(x_1, x_2):\n",
    "    y = x_1**2 - x_2**2\n",
    "    return y\n",
    "\n",
    "def contour_plot(func, xmin, xmax, ymin, ymax, num):\n",
    "    xlist_1 = np.linspace(xmin, xmax, num)\n",
    "    xlist_2 = np.linspace(ymin, ymax, num)\n",
    "    X_1, X_2 = np.meshgrid(xlist_1, xlist_2)\n",
    "    Z = func(X_1,X_2)\n",
    "\n",
    "    fig, ax = plt.subplots(1, 1) \n",
    "    # plots contour lines \n",
    "    ax.contourf(X_1, X_2, Z)\n",
    "    ax.set_title('Contour plot')\n",
    "    ax.set_xlabel('x_1')\n",
    "    ax.set_ylabel('x_2')### Gradiente descendiente para la función $f(x_1,x_2) = x_1^2+x_2^2$\n",
    "    #ax.scatter(1,1, c='white')\n",
    "    #plt.show()\n",
    "    return fig, ax\n",
    "    "
   ]
  },
  {
   "cell_type": "markdown",
   "metadata": {},
   "source": [
    "# Algoritmo gradiente descendiente"
   ]
  },
  {
   "cell_type": "code",
   "execution_count": 3,
   "metadata": {},
   "outputs": [],
   "source": [
    "# Gradient descent algorithm\n",
    "\n",
    "def gradient_descent(func, x_i, max_it, threshold, alpha = 0.05):\n",
    "    ''' func: Objective function\n",
    "        grad_func: gradient of objective function\n",
    "        x_i: initial point\n",
    "        alpha: Step length'''\n",
    "    xk = x_i\n",
    "    x_last = xk\n",
    "    fk = func(*xk)\n",
    "    i = 0\n",
    "    diff = 1.0e10\n",
    "    \n",
    "    x_hist = []\n",
    "    f_hist = []\n",
    "    x_hist.append(np.array(xk))\n",
    "    f_hist.append(fk)\n",
    "    \n",
    "    gradf = grad(func,(0,1))\n",
    "    \n",
    "    while i < max_it and np.linalg.norm(diff) > threshold :\n",
    "        #xk = xk - alpha*np.array([dg_x(xk), dg_y(xk)])\n",
    "        xk = xk - alpha*np.array(gradf(*xk))\n",
    "        fk = func(*xk)\n",
    "        x_hist.append(xk)\n",
    "        f_hist.append(fk)\n",
    "        \n",
    "        diff = np.absolute(f_hist[-1]-f_hist[-2])\n",
    "        i+=1\n",
    "        \n",
    "    return x_hist, f_hist\n",
    "\n",
    "\n",
    "def add_points(fig, ax, x):\n",
    "    \"\"\"Adds the given points to\n",
    "    the given plot\"\"\"\n",
    "    for i in range(len(x)-1):\n",
    "        ax.scatter(*x[i], c='yellow', s=8)\n",
    "    plt.show()\n",
    "    "
   ]
  },
  {
   "cell_type": "markdown",
   "metadata": {},
   "source": [
    "### Gradiente descendiente para la función $f(x_1,x_2) = x_1^2+x_2^2$"
   ]
  },
  {
   "cell_type": "code",
   "execution_count": 4,
   "metadata": {},
   "outputs": [
    {
     "data": {
      "image/png": "[encoded data removed]",
      "text/plain": [
       "<Figure size 432x288 with 1 Axes>"
      ]
     },
     "metadata": {
      "needs_background": "light"
     },
     "output_type": "display_data"
    },
    {
     "name": "stdout",
     "output_type": "stream",
     "text": [
      "x= [-0.0014098 -0.0014098] f(x)= 3.975084393146578e-06\n",
      "Resultado obtenido con el algoritmo de gradiente descendiente\n",
      "Punto inicial: (-2.5, -2.5)\n",
      "Número de iteraciones: 200\n",
      "Step length: 0.05\n"
     ]
    }
   ],
   "source": [
    "xg = (-2.5, -2.5); it_g = 200; tol_g = 1.0e-6; alpha_g = 0.05;\n",
    "X_hist, F_hist = gradient_descent(g, xg, it_g, tol_g, alpha_g)\n",
    "fig_g, ax_g = contour_plot(g,-3,3,-3,3,100)\n",
    "add_points(fig_g, ax_g, X_hist)\n",
    "print('x=',X_hist[-1], 'f(x)=', F_hist[-1])\n",
    "print('Resultado obtenido con el algoritmo de gradiente descendiente')\n",
    "print('Punto inicial:', xg)\n",
    "print('Número de iteraciones:', it_g)\n",
    "print('Step length:', alpha_g)"
   ]
  },
  {
   "cell_type": "markdown",
   "metadata": {},
   "source": [
    "### Gradiente descendiente para la función de Rosenbrock $ f(x_1,x_2)=100(x_2-x_1^2)^2+(1-x_1)^2$ con mínimo en $x=(1,1)$"
   ]
  },
  {
   "cell_type": "code",
   "execution_count": 5,
   "metadata": {},
   "outputs": [
    {
     "data": {
      "image/png": "[encoded data removed]",
      "text/plain": [
       "<Figure size 432x288 with 1 Axes>"
      ]
     },
     "metadata": {
      "needs_background": "light"
     },
     "output_type": "display_data"
    },
    {
     "name": "stdout",
     "output_type": "stream",
     "text": [
      "x= [0.9410602  0.88534996] f(x)= 0.0034798702374514994\n",
      "Resultado obtenido con gradiente descendiente\n",
      "Punto inicial: (0.01, 2.0)\n",
      "Número de iteraciones: 2000\n",
      "Step length: 0.0021\n"
     ]
    }
   ],
   "source": [
    "xf = (0.01, 2.0); it_f = 2000; tol = 1.0e-6; alpha_f = 0.0021\n",
    "X_hist_f, F_hist_f = gradient_descent(f, xf, it_f, tol, alpha_f)\n",
    "fig_f, ax_f = contour_plot(f,-2.5,2.5,-2.5,2.5,200)\n",
    "add_points(fig_f, ax_f, X_hist_f)\n",
    "print('x=', X_hist_f[-1], 'f(x)=', F_hist_f[-1])\n",
    "print('Resultado obtenido con gradiente descendiente')\n",
    "print('Punto inicial:', xf)\n",
    "print('Número de iteraciones:', it_f)\n",
    "print('Step length:', alpha_f)"
   ]
  },
  {
   "cell_type": "markdown",
   "metadata": {},
   "source": [
    "# Algoritmo de Newton"
   ]
  },
  {
   "cell_type": "code",
   "execution_count": 6,
   "metadata": {},
   "outputs": [],
   "source": [
    "def Newton_algorithm(func, x_i, max_it, threshold, alpha = 0.05):\n",
    "    ''' func: Objective function\n",
    "        grad_func: gradient of objective function\n",
    "        x_i: initial point\n",
    "        alpha: Step length'''\n",
    "    xk = x_i\n",
    "    x_last = xk\n",
    "    fk = func(*xk)\n",
    "    i = 0\n",
    "    diff = 1.0e10\n",
    "    \n",
    "    x_hist = []\n",
    "    f_hist = []\n",
    "    x_hist.append(np.array(xk))\n",
    "    f_hist.append(fk)\n",
    "    \n",
    "    gradf = grad(func,(0,1))\n",
    "    #hess = hessian(func,0)\n",
    "    #print(hess(*np.array(xk)))\n",
    "    h00 = grad(grad(func,0),0)\n",
    "    h01 = grad(grad(func,1),0)\n",
    "    h10 = grad(grad(func,0),1)\n",
    "    h11 = grad(grad(func,1),1)\n",
    "\n",
    "    while i < max_it and np.linalg.norm(diff) > threshold :\n",
    "        hess = np.array([[h00(*xk), h01(*xk)],[h10(*xk), h11(*xk)]])\n",
    "        xk = xk - alpha*np.dot(np.linalg.inv(hess),np.array(gradf(*xk)))\n",
    "        fk = func(*xk)\n",
    "        x_hist.append(xk)\n",
    "        f_hist.append(fk)\n",
    "        \n",
    "        diff = np.absolute(f_hist[-1]-f_hist[-2])\n",
    "        i+=1\n",
    "        \n",
    "    return x_hist, f_hist\n",
    "\n",
    "\n"
   ]
  },
  {
   "cell_type": "markdown",
   "metadata": {},
   "source": [
    "### Algoritmo de Newton para la función $f(x_1,x_2) = x_1^2+x_2^2$"
   ]
  },
  {
   "cell_type": "code",
   "execution_count": 7,
   "metadata": {},
   "outputs": [
    {
     "name": "stderr",
     "output_type": "stream",
     "text": [
      "/opt/anaconda3/lib/python3.8/site-packages/autograd/tracer.py:14: UserWarning: Output seems independent of input.\n",
      "  warnings.warn(\"Output seems independent of input.\")\n"
     ]
    },
    {
     "data": {
      "image/png": "[encoded data removed]",
      "text/plain": [
       "<Figure size 432x288 with 1 Axes>"
      ]
     },
     "metadata": {
      "needs_background": "light"
     },
     "output_type": "display_data"
    },
    {
     "name": "stdout",
     "output_type": "stream",
     "text": [
      "x= [ 0.00286318 -0.00095439] f(x)= 9.108661651030702e-06\n",
      "Resultado obtenido con el algoritmo de Newton\n",
      "Punto inicial: (9.0, -3.0)\n",
      "Número de iteraciones: 200\n",
      "Step length: 0.05\n"
     ]
    }
   ],
   "source": [
    "xg = (9.0, -3.0); it_g = 200; tol = 1.0e-6; alpha_g = 0.05\n",
    "X_hist_gN, F_hist_gN = Newton_algorithm(g, xg, it_g, tol, alpha_g)\n",
    "fig_gN, ax_gN = contour_plot(g,-10,10,-10,10,200)\n",
    "add_points(fig_gN, ax_gN, X_hist_gN)\n",
    "print('x=', X_hist_gN[-1], 'f(x)=', F_hist_gN[-1])\n",
    "print('Resultado obtenido con el algoritmo de Newton')\n",
    "print('Punto inicial:', xg)\n",
    "print('Número de iteraciones:', it_g)\n",
    "print('Step length:', alpha_g)"
   ]
  },
  {
   "cell_type": "markdown",
   "metadata": {},
   "source": [
    "### Algoritmo de Newton para la función de Rosenbrock $ f(x_1,x_2)=100(x_2-x_1^2)^2+(1-x_1)^2$ con mínimo en $x=(1,1)$"
   ]
  },
  {
   "cell_type": "markdown",
   "metadata": {},
   "source": [
    "### Algoritmo de Newton para la función $f(x_1,x_2) = x_1^2+x_2^2$"
   ]
  },
  {
   "cell_type": "code",
   "execution_count": 8,
   "metadata": {},
   "outputs": [
    {
     "data": {
      "image/png": "[encoded data removed]",
      "text/plain": [
       "<Figure size 432x288 with 1 Axes>"
      ]
     },
     "metadata": {
      "needs_background": "light"
     },
     "output_type": "display_data"
    },
    {
     "name": "stdout",
     "output_type": "stream",
     "text": [
      "x= [0.99708857 0.99414611] f(x)= 8.632481746522988e-06\n",
      "Resultado obtenido con el algoritmo de Newton\n",
      "Punto inicial: (0.01, 2.0)\n",
      "Número de iteraciones: 300\n",
      "Step length: 0.05\n"
     ]
    }
   ],
   "source": [
    "xf = (0.01, 2.0); it_f = 300; tol = 1.0e-6; alpha_f = 0.05\n",
    "X_hist_f, F_hist_f = Newton_algorithm(f, xf, it_f, tol, alpha_f)\n",
    "fig_f, ax_f = contour_plot(f,-2.5,2.5,-2.5,2.5,200)\n",
    "add_points(fig_f, ax_f, X_hist_f)\n",
    "print('x=', X_hist_f[-1], 'f(x)=', F_hist_f[-1])\n",
    "print('Resultado obtenido con el algoritmo de Newton')\n",
    "print('Punto inicial:', xf)\n",
    "print('Número de iteraciones:', it_f)\n",
    "print('Step length:', alpha_f)"
   ]
  },
  {
   "cell_type": "markdown",
   "metadata": {},
   "source": [
    "### Algoritmo de Newton para la función $f(x_1,x_2) = x_1^2-x_2^2$"
   ]
  },
  {
   "cell_type": "code",
   "execution_count": 10,
   "metadata": {},
   "outputs": [
    {
     "data": {
      "image/png": "[encoded data removed]",
      "text/plain": [
       "<Figure size 432x288 with 1 Axes>"
      ]
     },
     "metadata": {
      "needs_background": "light"
     },
     "output_type": "display_data"
    },
    {
     "name": "stdout",
     "output_type": "stream",
     "text": [
      "x= [-0.00167437 -0.00334875] f(x)= -8.410583241948948e-06\n",
      "Resultado obtenido con el algoritmo de Newton\n",
      "Punto inicial: (-5.0, -10.0)\n",
      "Número de iteraciones: 300\n",
      "Step length: 0.05\n"
     ]
    }
   ],
   "source": [
    "xh = (-5.0, -10.0); it_h = 300; tol = 1.0e-6; alpha_h = 0.05\n",
    "X_hist_h, F_hist_h = Newton_algorithm(h, xh, it_h, tol, alpha_h)\n",
    "fig_h, ax_h = contour_plot(h,-10.0,10.0,-10.0,10.0,200)\n",
    "add_points(fig_h, ax_h, X_hist_h)\n",
    "print('x=', X_hist_h[-1], 'f(x)=', F_hist_h[-1])\n",
    "print('Resultado obtenido con el algoritmo de Newton')\n",
    "print('Punto inicial:', xh)\n",
    "print('Número de iteraciones:', it_h)\n",
    "print('Step length:', alpha_h)"
   ]
  }
 ],
 "metadata": {
  "kernelspec": {
   "display_name": "Python 3",
   "language": "python",
   "name": "python3"
  },
  "language_info": {
   "codemirror_mode": {
    "name": "ipython",
    "version": 3
   },
   "file_extension": ".py",
   "mimetype": "text/x-python",
   "name": "python",
   "nbconvert_exporter": "python",
   "pygments_lexer": "ipython3",
   "version": "3.8.5"
  }
 },
 "nbformat": 4,
 "nbformat_minor": 4
}
